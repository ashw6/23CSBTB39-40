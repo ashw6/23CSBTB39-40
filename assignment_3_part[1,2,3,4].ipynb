{
  "nbformat": 4,
  "nbformat_minor": 0,
  "metadata": {
    "colab": {
      "provenance": [],
      "authorship_tag": "ABX9TyPLd4HPyZUke2V9o1rJ8fpM",
      "include_colab_link": true
    },
    "kernelspec": {
      "name": "python3",
      "display_name": "Python 3"
    },
    "language_info": {
      "name": "python"
    }
  },
  "cells": [
    {
      "cell_type": "markdown",
      "metadata": {
        "id": "view-in-github",
        "colab_type": "text"
      },
      "source": [
        "<a href=\"https://colab.research.google.com/github/ashw6/23CSBTB39-40/blob/main/assignment_3_part%5B1%2C2%2C3%2C4%5D.ipynb\" target=\"_parent\"><img src=\"https://colab.research.google.com/assets/colab-badge.svg\" alt=\"Open In Colab\"/></a>"
      ]
    },
    {
      "cell_type": "markdown",
      "source": [
        "part1"
      ],
      "metadata": {
        "id": "Kueqg3nrOeuy"
      }
    },
    {
      "cell_type": "code",
      "source": [
        "from collections import namedtuple,Counter,defaultdict\n",
        "import random\n",
        "import math\n",
        "import functools\n",
        "cache = functools.lru_cache(10**6)\n"
      ],
      "metadata": {
        "id": "Q5zd5VPeLZqN"
      },
      "execution_count": 10,
      "outputs": []
    },
    {
      "cell_type": "code",
      "source": [
        "class Game:\n",
        "    def actions(self, state ):\n",
        "        \"\"\"Return a collection of the allowable moves from this state .\"\"\"\n",
        "        raise NotImplementedError\n",
        "    def result(self, state , move ):\n",
        "        \"\"\"Return the state that results from making a move from a state.\"\"\"\n",
        "        raise NotImplementedError\n",
        "def is_terminal (self, state ):\n",
        "        \"\"\"Return True if this is a final state for the game.\"\"\"\n",
        "        return not self.actions(state)\n",
        "def utility(self, state, player):\n",
        "    \"\"\"Return the value of this final state to player .\"\"\"\n",
        "    pass\n",
        "    raise NotImplementedError"
      ],
      "metadata": {
        "id": "nWi_RUuwLTLs"
      },
      "execution_count": 2,
      "outputs": []
    },
    {
      "cell_type": "code",
      "source": [
        "def play_game(game, strategies: dict, verbose=False):\n",
        "    \"\"\"Play a turn-taking game. 'strategies' is a {player name: function} dict,\n",
        "    where function(state, game) is used to get the player's move.\"\"\"\n",
        "    state = game.initial\n",
        "    while not game.is_terminal(state):\n",
        "      player = state.to_move\n",
        "      move = strategies[player](game, state)\n",
        "      state = game.result(state , move)\n",
        "      if verbose:\n",
        "          print('Player', player , 'move:', move)\n",
        "          print(state)\n",
        "      return state"
      ],
      "metadata": {
        "id": "dLCrTLh1La1-"
      },
      "execution_count": 3,
      "outputs": []
    },
    {
      "cell_type": "markdown",
      "source": [
        "part 2"
      ],
      "metadata": {
        "id": "mm31fh93OiAZ"
      }
    },
    {
      "cell_type": "code",
      "source": [
        "def minimax_search (game , state ):\n",
        "    \"\"\"Search game tree to determine best move; return (value , move) pair .\"\"\"\n",
        "    player = state.to_move\n",
        "    def max_value (state ):\n",
        "        if game.is_terminal(state):\n",
        "            return game.utility(state, player), None\n",
        "        v, move = -float('inf'), None\n",
        "        for a in game.actions(state):\n",
        "            v2, _ = min_value(game.result(state, a))\n",
        "            if v2 > v:\n",
        "                v, move = v2 , a\n",
        "        return v, move\n",
        "    def min_value (state ):\n",
        "        if game. is_terminal (state ):\n",
        "            return game.utility(state , player), None\n",
        "        v, move = +infinity , None\n",
        "        for a in game.actions(state ):\n",
        "            v2 , = max_value (game.result(state , a))\n",
        "            if v2 < v:\n",
        "                v, move = v2 , a\n",
        "        return v, move\n",
        "    return max_value (state)\n",
        "infinity = math.inf"
      ],
      "metadata": {
        "id": "s8Of7Z7HLgBL"
      },
      "execution_count": 4,
      "outputs": []
    },
    {
      "cell_type": "code",
      "source": [
        "def alphabeta_search (game , state ):\n",
        "  \"\"\"Search game to determine best action ; use alpha−beta pruning.\n",
        "  Search all the way to the leaves .\"\"\"\n",
        "  player = state. to_move\n",
        "  def max_value (state , alpha , beta ):\n",
        "    if game.is_terminal (state ):\n",
        "      return game.utility(state , player), None\n",
        "    v, move = -infinity , None\n",
        "    for a in game.actions(state ):\n",
        "      v2 , = min_value (game.result(state , a), alpha , beta)\n",
        "      if v2 > v:\n",
        "        v, move = v2 , a\n",
        "        alpha = max(alpha , v)\n",
        "        if v >= beta:\n",
        "          return v, move\n",
        "    return v, move\n",
        "  def min_value (state , alpha , beta ):\n",
        "    if game. is_terminal (state ):\n",
        "      return game.utility(state , player), None\n",
        "    v, move = +infinity , None\n",
        "    for a in game.actions(state ):\n",
        "      v2 , = max_value (game.result(state , a), alpha , beta)\n",
        "      if v2 < v:\n",
        "        v, move = v2 , a\n",
        "        beta = min(beta , v)\n",
        "        if v <= alpha:\n",
        "          return v, move\n",
        "    return v, move\n",
        "  return max_value (state , -infinity , +infinity )"
      ],
      "metadata": {
        "id": "46MUVn4ALk_P"
      },
      "execution_count": 6,
      "outputs": []
    },
    {
      "cell_type": "markdown",
      "source": [
        "part 3"
      ],
      "metadata": {
        "id": "8KSP3FTeOlng"
      }
    },
    {
      "cell_type": "code",
      "source": [
        "class TicTacToe (Game ):\n",
        "    \"\"\"Play TicTacToe on an ‘height ‘ by ‘width‘ board, needing ‘k ‘ in a row to win.\n",
        "    ’X’ plays first against ’O’ .\"\"\"\n",
        "    def _init(self, height =3, width =3, k=3): # added _ to make it a constructor\n",
        "        self.k = k # k in a row\n",
        "        self.squares = {(x, y) for x in range(width) for y in range(height)}\n",
        "        self.initial = Board(height=height , width=width , to_move ='X', utility =0)\n",
        "    def actions(self, board):\n",
        "        \"\"\"Legal moves are any square not yet taken.\"\"\"\n",
        "        return self.squares - set(board)\n",
        "\n",
        "    def result(self, board, square):\n",
        "        \"\"\"Place a marker for current player on square.\"\"\"\n",
        "        #pass # Replace with actual implementation\n",
        "        player = board.to_move\n",
        "        board = board.new({square: player}, to_move = ('O' if player == 'X' else 'X'))\n",
        "        win = self.k_in_row(board, player, square, self.k) # calling k_in_row from self\n",
        "        board.utility = (0 if not win else +1 if player == 'X' else -1)\n",
        "        return board # added return statement\n",
        "    def utility(self, board , player ):\n",
        "        \"\"\"Return the value to player ; 1 for win, −1 for loss , 0 otherwise .\"\"\"\n",
        "        return board.utility if player == 'X' else -board.utility\n",
        "    def is_terminal (self, board ):\n",
        "        \"\"\"A board is a terminal state if it is won or there are no empty squares.\"\"\"\n",
        "        return board.utility != 0 or len(self.squares) == len(board)\n",
        "    def display(self, board ):\n",
        "        print(board) # indented this line\n",
        "    def k_in_row (self, board , player , square , k): # added self\n",
        "        \"\"\"True if player has k pieces in a line through square.\"\"\"\n",
        "        def in_row (x, y, dx , dy):\n",
        "            return 0 if board[x, y] != player else 1 + in_row (x + dx , y + dy , dx , dy)\n",
        "        return any(in_row(*square , dx , dy) + in_row(*square , -dx , -dy)-1 >= k\n",
        "                   for (dx , dy) in ((0, 1), (1, 0), (1, 1), (1, -1)))"
      ],
      "metadata": {
        "id": "Zl8wYGmZLpsa"
      },
      "execution_count": 7,
      "outputs": []
    },
    {
      "cell_type": "markdown",
      "source": [
        "part 4"
      ],
      "metadata": {
        "id": "o-W4u0I3OpUI"
      }
    },
    {
      "cell_type": "code",
      "source": [
        "import random\n",
        "\n",
        "class TicTacToe:\n",
        "    def __init__(self):\n",
        "        self.board = [' '] * 9  # 3x3 board\n",
        "        self.current_winner = None  # Track the winner\n",
        "\n",
        "    def available_moves(self):\n",
        "        return [i for i, spot in enumerate(self.board) if spot == ' ']\n",
        "\n",
        "    def make_move(self, square, letter):\n",
        "        if self.board[square] == ' ':\n",
        "            self.board[square] = letter\n",
        "            if self.winner(square, letter):\n",
        "                self.current_winner = letter\n",
        "            return True\n",
        "        return False\n",
        "\n",
        "    def winner(self, square, letter):\n",
        "        # Check the row\n",
        "        row_ind = square // 3\n",
        "        row = self.board[row_ind*3:(row_ind+1)*3]\n",
        "        if all([spot == letter for spot in row]):\n",
        "            return True\n",
        "        # Check the column\n",
        "        col_ind = square % 3\n",
        "        column = [self.board[col_ind+i*3] for i in range(3)]\n",
        "        if all([spot == letter for spot in column]):\n",
        "            return True\n",
        "        # Check diagonals\n",
        "        if square % 2 == 0:\n",
        "            diagonal1 = [self.board[i] for i in [0, 4, 8]]\n",
        "            if all([spot == letter for spot in diagonal1]):\n",
        "                return True\n",
        "            diagonal2 = [self.board[i] for i in [2, 4, 6]]\n",
        "            if all([spot == letter for spot in diagonal2]):\n",
        "                return True\n",
        "        return False\n",
        "\n",
        "    def empty_squares(self):\n",
        "        return ' ' in self.board\n",
        "\n",
        "    def num_empty_squares(self):\n",
        "        return self.board.count(' ')\n",
        "\n",
        "    def is_terminal(self):\n",
        "        return self.current_winner or not self.empty_squares()\n",
        "\n",
        "    def utility(self, letter):\n",
        "        if self.current_winner == letter:\n",
        "            return 1\n",
        "        elif self.current_winner is None:\n",
        "            return 0\n",
        "        else:\n",
        "            return -1\n",
        "\n",
        "    def display(self):\n",
        "        for row in [self.board[i*3:(i+1)*3] for i in range(3)]:\n",
        "            print('| ' + ' | '.join(row) + ' |')\n",
        "\n",
        "def random_player(game, letter):\n",
        "    return random.choice(game.available_moves())\n",
        "\n",
        "def minimax_player(game, letter):\n",
        "    def minimax(game, depth, is_maximizing):\n",
        "        if game.is_terminal():\n",
        "            return game.utility('O')\n",
        "\n",
        "        if is_maximizing:\n",
        "            best_val = -float('inf')\n",
        "            for move in game.available_moves():\n",
        "                game.make_move(move, 'O')\n",
        "                val = minimax(game, depth + 1, False)\n",
        "                game.board[move] = ' '  # Undo move\n",
        "                best_val = max(best_val, val)\n",
        "            return best_val\n",
        "        else:\n",
        "            best_val = float('inf')\n",
        "            for move in game.available_moves():\n",
        "                game.make_move(move, 'X')\n",
        "                val = minimax(game, depth + 1, True)\n",
        "                game.board[move] = ' '  # Undo move\n",
        "                best_val = min(best_val, val)\n",
        "            return best_val\n",
        "\n",
        "    best_move = None\n",
        "    best_val = -float('inf')\n",
        "    for move in game.available_moves():\n",
        "        game.make_move(move, letter)\n",
        "        move_val = minimax(game, 0, False)\n",
        "        game.board[move] = ' '  # Undo move\n",
        "        if move_val > best_val:\n",
        "            best_val = move_val\n",
        "            best_move = move\n",
        "    return best_move\n",
        "\n",
        "def alphabeta_player(game, letter):\n",
        "    def alphabeta(game, depth, alpha, beta, is_maximizing):\n",
        "        if game.is_terminal():\n",
        "            return game.utility('O')\n",
        "\n",
        "        if is_maximizing:\n",
        "            best_val = -float('inf')\n",
        "            for move in game.available_moves():\n",
        "                game.make_move(move, 'O')\n",
        "                val = alphabeta(game, depth + 1, alpha, beta, False)\n",
        "                game.board[move] = ' '  # Undo move\n",
        "                best_val = max(best_val, val)\n",
        "                alpha = max(alpha, val)\n",
        "                if beta <= alpha:\n",
        "                    break\n",
        "            return best_val\n",
        "        else:\n",
        "            best_val = float('inf')\n",
        "            for move in game.available_moves():\n",
        "                game.make_move(move, 'X')\n",
        "                val = alphabeta(game, depth + 1, alpha, beta, True)\n",
        "                game.board[move] = ' '  # Undo move\n",
        "                best_val = min(best_val, val)\n",
        "                beta = min(beta, val)\n",
        "                if beta <= alpha:\n",
        "                    break\n",
        "            return best_val\n",
        "\n",
        "    best_move = None\n",
        "    best_val = -float('inf')\n",
        "    for move in game.available_moves():\n",
        "        game.make_move(move, letter)\n",
        "        move_val = alphabeta(game, 0, -float('inf'), float('inf'), False)\n",
        "        game.board[move] = ' '  # Undo move\n",
        "        if move_val > best_val:\n",
        "            best_val = move_val\n",
        "            best_move = move\n",
        "    return best_move\n",
        "\n",
        "def play_game(game, players, verbose=False):\n",
        "    letter = 'X'  # Starting player\n",
        "    while game.empty_squares():\n",
        "        if game.is_terminal():\n",
        "            break\n",
        "        move = players[letter](game, letter)\n",
        "        game.make_move(move, letter)\n",
        "        if verbose:\n",
        "            print(f'{letter} makes move to square {move}')\n",
        "            game.display()\n",
        "            print('')  # Empty line for readability\n",
        "        letter = 'O' if letter == 'X' else 'X'\n",
        "\n",
        "    if verbose:\n",
        "        if game.current_winner:\n",
        "            print(f'{game.current_winner} wins!')\n",
        "        else:\n",
        "            print('It\\'s a tie!')\n",
        "\n",
        "    return game.utility('O')\n",
        "\n",
        "# Implement Game 1: Random player vs Alphabeta search\n",
        "utility1 = play_game(TicTacToe(), dict(X=random_player, O=alphabeta_player), verbose=True)\n",
        "print(f\"Utility of Game 1: {utility1}\")\n",
        "\n",
        "# Implement Game 2: Alphabeta search vs Minimax search\n",
        "utility2 = play_game(TicTacToe(), dict(X=alphabeta_player, O=minimax_player), verbose=True)\n",
        "print(f\"Utility of Game 2: {utility2}\")"
      ],
      "metadata": {
        "colab": {
          "base_uri": "https://localhost:8080/"
        },
        "id": "7EQQ2dHYOO-0",
        "outputId": "ee50e56c-f183-4787-f0ad-eea23f53e82d"
      },
      "execution_count": 9,
      "outputs": [
        {
          "output_type": "stream",
          "name": "stdout",
          "text": [
            "X makes move to square 3\n",
            "|   |   |   |\n",
            "| X |   |   |\n",
            "|   |   |   |\n",
            "\n",
            "O makes move to square 0\n",
            "| O |   |   |\n",
            "| X |   |   |\n",
            "|   |   |   |\n",
            "\n",
            "X wins!\n",
            "Utility of Game 1: -1\n",
            "X makes move to square 0\n",
            "| X |   |   |\n",
            "|   |   |   |\n",
            "|   |   |   |\n",
            "\n",
            "X wins!\n",
            "Utility of Game 2: -1\n"
          ]
        }
      ]
    }
  ]
}