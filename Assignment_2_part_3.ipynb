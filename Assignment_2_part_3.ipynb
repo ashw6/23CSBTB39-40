{
  "nbformat": 4,
  "nbformat_minor": 0,
  "metadata": {
    "colab": {
      "provenance": [],
      "authorship_tag": "ABX9TyPS0oFPXkUB4wibG0bK91lu",
      "include_colab_link": true
    },
    "kernelspec": {
      "name": "python3",
      "display_name": "Python 3"
    },
    "language_info": {
      "name": "python"
    }
  },
  "cells": [
    {
      "cell_type": "markdown",
      "metadata": {
        "id": "view-in-github",
        "colab_type": "text"
      },
      "source": [
        "<a href=\"https://colab.research.google.com/github/ashw6/23CSBTB39-40/blob/main/Assignment_2_part_3.ipynb\" target=\"_parent\"><img src=\"https://colab.research.google.com/assets/colab-badge.svg\" alt=\"Open In Colab\"/></a>"
      ]
    },
    {
      "cell_type": "code",
      "execution_count": 1,
      "metadata": {
        "colab": {
          "base_uri": "https://localhost:8080/"
        },
        "id": "8_yPMD3ScrO4",
        "outputId": "9195edc1-e556-447d-8104-eaa5b231d93b"
      },
      "outputs": [
        {
          "output_type": "stream",
          "name": "stdout",
          "text": [
            "   STUDENT ID      S.NAME     C.NAME       PH.NO\n",
            "0        2084    SATHWIKA       AIML  9347361978\n",
            "1        2078     ASMITHA        CSE  7670972442\n",
            "2        2450       VIKAS  CSE(AIML)  9347361978\n",
            "3        2063  NAGESHWARI        CSE  9347698135\n",
            "4        2343    CHANDANA        CSE  9346126765\n",
            "5        1611    SATHWIKA        CSE  8555927340\n",
            "6        1268        AJAY        CSE  9908798027\n",
            "   STUDENT ID      S.NAME     C.NAME       PH.NO\n",
            "0        2084    SATHWIKA       AIML  9347361978\n",
            "1        2078     ASMITHA        CSE  7670972442\n",
            "2        2450       VIKAS  CSE(AIML)  9347361978\n",
            "3        2063  NAGESHWARI        CSE  9347698135\n",
            "4        2343    CHANDANA        CSE  9346126765\n",
            "5        1611    SATHWIKA        CSE  8555927340\n",
            "6        1268        AJAY        CSE  9908798027\n",
            "    STUDENT ID\\tS.NAME\\tC.NAME\\tPH.NO\n",
            "0    2084\\tSATHWIKA\\tAIML\\t9347361978\n",
            "1      2078\\tASMITHA\\tCSE\\t7670972442\n",
            "2  2450\\tVIKAS\\tCSE(AIML)\\t9347361978\n",
            "3   2063\\tNAGESHWARI\\tCSE\\t9347698135\n",
            "4     2343\\tCHANDANA\\tCSE\\t9346126765\n",
            "5     1611\\tSATHWIKA\\tCSE\\t8555927340\n",
            "6         1268\\tAJAY\\tCSE\\t9908798027\n"
          ]
        }
      ],
      "source": [
        "import pandas as pd\n",
        "df = pd.read_csv(\"student1.csv\")\n",
        "print(df)\n",
        "df = pd.read_excel(\"student1.xlsx\")\n",
        "print(df)\n",
        "df = pd.read_csv(\"student1.txt\")\n",
        "print(df)"
      ]
    },
    {
      "cell_type": "code",
      "source": [
        "from queue import Queue\n",
        "graph={0: [1, 2, 3],\n",
        "       1: [0, 2],\n",
        "       2: [1, 3, 5],\n",
        "       3: [0, 2, 4],\n",
        "       4: [3, 5, 7],\n",
        "       5: [2, 4, 6, 7],\n",
        "       6: [5, 7],\n",
        "       7: []}\n",
        "print(\"The adjacency List representing the graph is:\")\n",
        "print(graph)\n",
        "\n",
        "def bfs(graph, source):\n",
        "  Q=Queue()\n",
        "  visited_vertices=set()\n",
        "  Q.put(source)\n",
        "  visited_vertices.update({source})\n",
        "  while not Q.empty():\n",
        "    vertex=Q.get()\n",
        "    print(vertex, end=\"-->\")\n",
        "    for u in graph[vertex]:\n",
        "      if u not in visited_vertices:\n",
        "        Q.put(u)\n",
        "        visited_vertices.update({u})\n",
        "print(\"BFS traversal of graph with source 1 is:\")\n",
        "bfs(graph, 1)"
      ],
      "metadata": {
        "colab": {
          "base_uri": "https://localhost:8080/"
        },
        "id": "cEV54Y8bcvpY",
        "outputId": "53342bf8-865d-4b35-dfe7-4e3b9d6e2f85"
      },
      "execution_count": 2,
      "outputs": [
        {
          "output_type": "stream",
          "name": "stdout",
          "text": [
            "The adjacency List representing the graph is:\n",
            "{0: [1, 2, 3], 1: [0, 2], 2: [1, 3, 5], 3: [0, 2, 4], 4: [3, 5, 7], 5: [2, 4, 6, 7], 6: [5, 7], 7: []}\n",
            "BFS traversal of graph with source 1 is:\n",
            "1-->0-->2-->3-->5-->4-->6-->7-->"
          ]
        }
      ]
    }
  ]
}