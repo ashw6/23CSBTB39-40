{
  "nbformat": 4,
  "nbformat_minor": 0,
  "metadata": {
    "colab": {
      "provenance": [],
      "authorship_tag": "ABX9TyNGerjwzCUeccpKdMksLAso",
      "include_colab_link": true
    },
    "kernelspec": {
      "name": "python3",
      "display_name": "Python 3"
    },
    "language_info": {
      "name": "python"
    }
  },
  "cells": [
    {
      "cell_type": "markdown",
      "metadata": {
        "id": "view-in-github",
        "colab_type": "text"
      },
      "source": [
        "<a href=\"https://colab.research.google.com/github/ashw6/23CSBTB39-40/blob/main/first.ipynb\" target=\"_parent\"><img src=\"https://colab.research.google.com/assets/colab-badge.svg\" alt=\"Open In Colab\"/></a>"
      ]
    },
    {
      "cell_type": "code",
      "execution_count": null,
      "metadata": {
        "id": "tVFLru2E_KYL"
      },
      "outputs": [],
      "source": []
    },
    {
      "cell_type": "code",
      "source": [
        "import numpy as np\n",
        "\n",
        "arr = np.array([[1, 2, 3], [4, 5, 6]])\n",
        "\n",
        "newarr = arr.reshape(-1)\n",
        "\n",
        "print(newarr)"
      ],
      "metadata": {
        "colab": {
          "base_uri": "https://localhost:8080/"
        },
        "id": "S_U5DFLYDRT_",
        "outputId": "a26a9c9e-3387-4b89-e874-4fbd2baec26b"
      },
      "execution_count": 5,
      "outputs": [
        {
          "output_type": "stream",
          "name": "stdout",
          "text": [
            "[1 2 3 4 5 6]\n"
          ]
        }
      ]
    },
    {
      "cell_type": "markdown",
      "source": [
        "# New Section"
      ],
      "metadata": {
        "id": "0rThrexLBzGA"
      }
    },
    {
      "cell_type": "code",
      "source": [
        "import numpy\n",
        "import numpy as geek\n",
        "in_num1 = 10\n",
        "in_num2 = 15\n",
        "\n",
        "print (\"1st Input number : \", in_num1)\n",
        "print (\"2nd Input number : \", in_num2)\n",
        "\n",
        "out_num = geek.add(in_num1, in_num2)\n",
        "print (\"output number after addition : \", out_num)"
      ],
      "metadata": {
        "colab": {
          "base_uri": "https://localhost:8080/"
        },
        "id": "ucEMavmQ_Orf",
        "outputId": "760987d0-227b-4d31-e0e2-d969ba3d8307"
      },
      "execution_count": null,
      "outputs": [
        {
          "output_type": "stream",
          "name": "stdout",
          "text": [
            "1st Input number :  10\n",
            "2nd Input number :  15\n",
            "output number after addition :  25\n"
          ]
        }
      ]
    }
  ]
}